{
 "cells": [
  {
   "cell_type": "code",
   "execution_count": 1,
   "metadata": {},
   "outputs": [],
   "source": [
    "import pandas as pd\n",
    "import numpy as np\n",
    "import matplotlib.pyplot as plt\n",
    "import seaborn as sns\n",
    "%matplotlib inline\n",
    "from sklearn.preprocessing import StandardScaler\n",
    "from sklearn.model_selection import train_test_split\n",
    "from sklearn.neighbors import KNeighborsClassifier\n",
    "from sklearn.metrics import classification_report,confusion_matrix\n",
    "from sklearn.metrics import mean_absolute_error"
   ]
  },
  {
   "cell_type": "code",
   "execution_count": 3,
   "metadata": {},
   "outputs": [
    {
     "data": {
      "text/html": [
       "<div>\n",
       "<style scoped>\n",
       "    .dataframe tbody tr th:only-of-type {\n",
       "        vertical-align: middle;\n",
       "    }\n",
       "\n",
       "    .dataframe tbody tr th {\n",
       "        vertical-align: top;\n",
       "    }\n",
       "\n",
       "    .dataframe thead th {\n",
       "        text-align: right;\n",
       "    }\n",
       "</style>\n",
       "<table border=\"1\" class=\"dataframe\">\n",
       "  <thead>\n",
       "    <tr style=\"text-align: right;\">\n",
       "      <th></th>\n",
       "      <th>IsHoliday</th>\n",
       "      <th>Weekly_Sales</th>\n",
       "      <th>MarkDown1</th>\n",
       "      <th>MarkDown2</th>\n",
       "      <th>MarkDown3</th>\n",
       "      <th>MarkDown4</th>\n",
       "      <th>MarkDown5</th>\n",
       "    </tr>\n",
       "  </thead>\n",
       "  <tbody>\n",
       "    <tr>\n",
       "      <th>0</th>\n",
       "      <td>0</td>\n",
       "      <td>18689.54</td>\n",
       "      <td>10382.90</td>\n",
       "      <td>6115.67</td>\n",
       "      <td>215.07</td>\n",
       "      <td>2406.62</td>\n",
       "      <td>6551.42</td>\n",
       "    </tr>\n",
       "    <tr>\n",
       "      <th>1</th>\n",
       "      <td>0</td>\n",
       "      <td>19050.66</td>\n",
       "      <td>6074.12</td>\n",
       "      <td>254.39</td>\n",
       "      <td>51.98</td>\n",
       "      <td>427.39</td>\n",
       "      <td>5988.57</td>\n",
       "    </tr>\n",
       "    <tr>\n",
       "      <th>2</th>\n",
       "      <td>1</td>\n",
       "      <td>20911.25</td>\n",
       "      <td>410.31</td>\n",
       "      <td>98.00</td>\n",
       "      <td>55805.51</td>\n",
       "      <td>8.00</td>\n",
       "      <td>554.92</td>\n",
       "    </tr>\n",
       "    <tr>\n",
       "      <th>3</th>\n",
       "      <td>0</td>\n",
       "      <td>25293.49</td>\n",
       "      <td>5629.51</td>\n",
       "      <td>68.00</td>\n",
       "      <td>1398.11</td>\n",
       "      <td>2084.64</td>\n",
       "      <td>20475.32</td>\n",
       "    </tr>\n",
       "    <tr>\n",
       "      <th>4</th>\n",
       "      <td>0</td>\n",
       "      <td>33305.92</td>\n",
       "      <td>4640.65</td>\n",
       "      <td>19.00</td>\n",
       "      <td>105.02</td>\n",
       "      <td>3639.42</td>\n",
       "      <td>14461.82</td>\n",
       "    </tr>\n",
       "  </tbody>\n",
       "</table>\n",
       "</div>"
      ],
      "text/plain": [
       "   IsHoliday  Weekly_Sales  MarkDown1  MarkDown2  MarkDown3  MarkDown4  \\\n",
       "0          0      18689.54   10382.90    6115.67     215.07    2406.62   \n",
       "1          0      19050.66    6074.12     254.39      51.98     427.39   \n",
       "2          1      20911.25     410.31      98.00   55805.51       8.00   \n",
       "3          0      25293.49    5629.51      68.00    1398.11    2084.64   \n",
       "4          0      33305.92    4640.65      19.00     105.02    3639.42   \n",
       "\n",
       "   MarkDown5  \n",
       "0    6551.42  \n",
       "1    5988.57  \n",
       "2     554.92  \n",
       "3   20475.32  \n",
       "4   14461.82  "
      ]
     },
     "execution_count": 3,
     "metadata": {},
     "output_type": "execute_result"
    }
   ],
   "source": [
    "file_csv = \"data/classify.csv\"\n",
    "knn_df = pd.read_csv(file_csv, encoding=\"ISO-8859-1\")\n",
    "knn_df.head()"
   ]
  },
  {
   "cell_type": "code",
   "execution_count": 4,
   "metadata": {},
   "outputs": [
    {
     "name": "stdout",
     "output_type": "stream",
     "text": [
      "<class 'pandas.core.frame.DataFrame'>\n",
      "RangeIndex: 150681 entries, 0 to 150680\n",
      "Data columns (total 7 columns):\n",
      "IsHoliday       150681 non-null int64\n",
      "Weekly_Sales    150681 non-null float64\n",
      "MarkDown1       150681 non-null float64\n",
      "MarkDown2       150681 non-null float64\n",
      "MarkDown3       150681 non-null float64\n",
      "MarkDown4       150681 non-null float64\n",
      "MarkDown5       150681 non-null float64\n",
      "dtypes: float64(6), int64(1)\n",
      "memory usage: 8.0 MB\n"
     ]
    }
   ],
   "source": [
    "knn_df.info()"
   ]
  },
  {
   "cell_type": "code",
   "execution_count": 5,
   "metadata": {},
   "outputs": [
    {
     "data": {
      "text/html": [
       "<div>\n",
       "<style scoped>\n",
       "    .dataframe tbody tr th:only-of-type {\n",
       "        vertical-align: middle;\n",
       "    }\n",
       "\n",
       "    .dataframe tbody tr th {\n",
       "        vertical-align: top;\n",
       "    }\n",
       "\n",
       "    .dataframe thead th {\n",
       "        text-align: right;\n",
       "    }\n",
       "</style>\n",
       "<table border=\"1\" class=\"dataframe\">\n",
       "  <thead>\n",
       "    <tr style=\"text-align: right;\">\n",
       "      <th></th>\n",
       "      <th>Weekly_Sales</th>\n",
       "      <th>MarkDown1</th>\n",
       "      <th>MarkDown2</th>\n",
       "      <th>MarkDown3</th>\n",
       "      <th>MarkDown4</th>\n",
       "      <th>MarkDown5</th>\n",
       "    </tr>\n",
       "  </thead>\n",
       "  <tbody>\n",
       "    <tr>\n",
       "      <th>0</th>\n",
       "      <td>18689.54</td>\n",
       "      <td>10382.90</td>\n",
       "      <td>6115.67</td>\n",
       "      <td>215.07</td>\n",
       "      <td>2406.62</td>\n",
       "      <td>6551.42</td>\n",
       "    </tr>\n",
       "    <tr>\n",
       "      <th>1</th>\n",
       "      <td>19050.66</td>\n",
       "      <td>6074.12</td>\n",
       "      <td>254.39</td>\n",
       "      <td>51.98</td>\n",
       "      <td>427.39</td>\n",
       "      <td>5988.57</td>\n",
       "    </tr>\n",
       "    <tr>\n",
       "      <th>2</th>\n",
       "      <td>20911.25</td>\n",
       "      <td>410.31</td>\n",
       "      <td>98.00</td>\n",
       "      <td>55805.51</td>\n",
       "      <td>8.00</td>\n",
       "      <td>554.92</td>\n",
       "    </tr>\n",
       "    <tr>\n",
       "      <th>3</th>\n",
       "      <td>25293.49</td>\n",
       "      <td>5629.51</td>\n",
       "      <td>68.00</td>\n",
       "      <td>1398.11</td>\n",
       "      <td>2084.64</td>\n",
       "      <td>20475.32</td>\n",
       "    </tr>\n",
       "    <tr>\n",
       "      <th>4</th>\n",
       "      <td>33305.92</td>\n",
       "      <td>4640.65</td>\n",
       "      <td>19.00</td>\n",
       "      <td>105.02</td>\n",
       "      <td>3639.42</td>\n",
       "      <td>14461.82</td>\n",
       "    </tr>\n",
       "  </tbody>\n",
       "</table>\n",
       "</div>"
      ],
      "text/plain": [
       "   Weekly_Sales  MarkDown1  MarkDown2  MarkDown3  MarkDown4  MarkDown5\n",
       "0      18689.54   10382.90    6115.67     215.07    2406.62    6551.42\n",
       "1      19050.66    6074.12     254.39      51.98     427.39    5988.57\n",
       "2      20911.25     410.31      98.00   55805.51       8.00     554.92\n",
       "3      25293.49    5629.51      68.00    1398.11    2084.64   20475.32\n",
       "4      33305.92    4640.65      19.00     105.02    3639.42   14461.82"
      ]
     },
     "execution_count": 5,
     "metadata": {},
     "output_type": "execute_result"
    }
   ],
   "source": [
    "# Define features\n",
    "features_df = knn_df.loc[:, knn_df.columns != 'IsHoliday']\n",
    "features_df.head()"
   ]
  },
  {
   "cell_type": "code",
   "execution_count": 6,
   "metadata": {},
   "outputs": [
    {
     "data": {
      "text/plain": [
       "StandardScaler(copy=True, with_mean=True, with_std=True)"
      ]
     },
     "execution_count": 6,
     "metadata": {},
     "output_type": "execute_result"
    }
   ],
   "source": [
    "scaler = StandardScaler()\n",
    "scaler.fit(features_df)"
   ]
  },
  {
   "cell_type": "code",
   "execution_count": 7,
   "metadata": {},
   "outputs": [],
   "source": [
    "scaled_features = scaler.transform(features_df)"
   ]
  },
  {
   "cell_type": "code",
   "execution_count": 8,
   "metadata": {},
   "outputs": [
    {
     "data": {
      "text/plain": [
       "array([[ 0.10634678,  0.37829049,  0.4416691 , -0.11912182, -0.10319255,\n",
       "         0.31864678],\n",
       "       [ 0.12186948, -0.141391  , -0.26685622, -0.13687196, -0.43064515,\n",
       "         0.22438381],\n",
       "       [ 0.20184674, -0.82450252, -0.28576101,  5.93114492, -0.5000309 ,\n",
       "        -0.68561348],\n",
       "       ...,\n",
       "       [-0.65141321, -0.63804324, -0.29760748, -0.14167056, -0.40220029,\n",
       "        -0.11023507],\n",
       "       [-0.6643521 , -0.63228533, -0.29760748, -0.14218318, -0.42893446,\n",
       "        -0.52105815],\n",
       "       [-0.65073491, -0.38926966, -0.29058663, -0.13164563, -0.46629016,\n",
       "        -0.63480007]])"
      ]
     },
     "execution_count": 8,
     "metadata": {},
     "output_type": "execute_result"
    }
   ],
   "source": [
    "scaled_features"
   ]
  },
  {
   "cell_type": "code",
   "execution_count": 9,
   "metadata": {},
   "outputs": [],
   "source": [
    "knn_feat = pd.DataFrame(scaled_features,columns=features_df.columns)"
   ]
  },
  {
   "cell_type": "code",
   "execution_count": 10,
   "metadata": {},
   "outputs": [],
   "source": [
    "X_train, X_test, y_train, y_test = train_test_split(scaled_features,knn_df['IsHoliday'],\n",
    "                                                    test_size=0.30, random_state=42)"
   ]
  },
  {
   "cell_type": "code",
   "execution_count": 11,
   "metadata": {},
   "outputs": [],
   "source": [
    "knn = KNeighborsClassifier(n_neighbors=1)"
   ]
  },
  {
   "cell_type": "code",
   "execution_count": 12,
   "metadata": {},
   "outputs": [
    {
     "data": {
      "text/plain": [
       "KNeighborsClassifier(algorithm='auto', leaf_size=30, metric='minkowski',\n",
       "           metric_params=None, n_jobs=None, n_neighbors=1, p=2,\n",
       "           weights='uniform')"
      ]
     },
     "execution_count": 12,
     "metadata": {},
     "output_type": "execute_result"
    }
   ],
   "source": [
    "knn.fit(X_train,y_train)"
   ]
  },
  {
   "cell_type": "code",
   "execution_count": 13,
   "metadata": {},
   "outputs": [],
   "source": [
    "pred = knn.predict(X_test)"
   ]
  },
  {
   "cell_type": "code",
   "execution_count": 14,
   "metadata": {},
   "outputs": [
    {
     "name": "stdout",
     "output_type": "stream",
     "text": [
      "[[41390   201]\n",
      " [  231  3383]]\n"
     ]
    }
   ],
   "source": [
    "print(confusion_matrix(y_test,pred))"
   ]
  },
  {
   "cell_type": "code",
   "execution_count": 15,
   "metadata": {},
   "outputs": [
    {
     "name": "stdout",
     "output_type": "stream",
     "text": [
      "              precision    recall  f1-score   support\n",
      "\n",
      "           0       0.99      1.00      0.99     41591\n",
      "           1       0.94      0.94      0.94      3614\n",
      "\n",
      "   micro avg       0.99      0.99      0.99     45205\n",
      "   macro avg       0.97      0.97      0.97     45205\n",
      "weighted avg       0.99      0.99      0.99     45205\n",
      "\n"
     ]
    }
   ],
   "source": [
    "print(classification_report(y_test,pred))"
   ]
  },
  {
   "cell_type": "code",
   "execution_count": 16,
   "metadata": {},
   "outputs": [],
   "source": [
    "error_rate = []\n",
    "\n",
    "for i in range(1,10):\n",
    "    \n",
    "    knn = KNeighborsClassifier(n_neighbors=i)\n",
    "    knn.fit(X_train,y_train)\n",
    "    pred_i = knn.predict(X_test)\n",
    "    error_rate.append(np.mean(pred_i != y_test))"
   ]
  },
  {
   "cell_type": "code",
   "execution_count": 17,
   "metadata": {},
   "outputs": [
    {
     "data": {
      "text/plain": [
       "Text(0, 0.5, 'Error Rate')"
      ]
     },
     "execution_count": 17,
     "metadata": {},
     "output_type": "execute_result"
    },
    {
     "data": {
      "image/png": "[encoded data removed]",
      "text/plain": [
       "<Figure size 720x432 with 1 Axes>"
      ]
     },
     "metadata": {
      "needs_background": "light"
     },
     "output_type": "display_data"
    }
   ],
   "source": [
    "plt.figure(figsize=(10,6))\n",
    "plt.plot(range(1,10),error_rate,color='blue', linestyle='dashed', marker='o',\n",
    "         markerfacecolor='red', markersize=10)\n",
    "plt.title('Error Rate vs. K Value')\n",
    "plt.xlabel('K')\n",
    "plt.ylabel('Error Rate')"
   ]
  },
  {
   "cell_type": "code",
   "execution_count": 19,
   "metadata": {},
   "outputs": [
    {
     "name": "stdout",
     "output_type": "stream",
     "text": [
      "WITH K=2\n",
      "\n",
      "\n",
      "[[41550    41]\n",
      " [  368  3246]]\n",
      "\n",
      "\n",
      "              precision    recall  f1-score   support\n",
      "\n",
      "           0       0.99      1.00      1.00     41591\n",
      "           1       0.99      0.90      0.94      3614\n",
      "\n",
      "   micro avg       0.99      0.99      0.99     45205\n",
      "   macro avg       0.99      0.95      0.97     45205\n",
      "weighted avg       0.99      0.99      0.99     45205\n",
      "\n"
     ]
    }
   ],
   "source": [
    "knn = KNeighborsClassifier(n_neighbors=2)\n",
    "\n",
    "knn.fit(X_train,y_train)\n",
    "pred = knn.predict(X_test)\n",
    "\n",
    "print('WITH K=2')\n",
    "print('\\n')\n",
    "print(confusion_matrix(y_test,pred))\n",
    "print('\\n')\n",
    "print(classification_report(y_test,pred))"
   ]
  },
  {
   "cell_type": "code",
   "execution_count": 20,
   "metadata": {},
   "outputs": [
    {
     "name": "stdout",
     "output_type": "stream",
     "text": [
      "   Prediction No  Predicted Yes\n",
      "0          41550             41\n",
      "1            368           3246\n"
     ]
    }
   ],
   "source": [
    "confusion_df = pd.DataFrame(data=confusion_matrix(y_test,pred),columns=['Prediction No', 'Predicted Yes'])\n",
    "print(confusion_df)"
   ]
  },
  {
   "cell_type": "code",
   "execution_count": 21,
   "metadata": {},
   "outputs": [
    {
     "name": "stdout",
     "output_type": "stream",
     "text": [
      "0.009047671717730339\n"
     ]
    }
   ],
   "source": [
    "MAE = mean_absolute_error(y_test,pred)\n",
    "print(MAE)"
   ]
  },
  {
   "cell_type": "code",
   "execution_count": null,
   "metadata": {},
   "outputs": [],
   "source": []
  }
 ],
 "metadata": {
  "kernelspec": {
   "display_name": "Python 3",
   "language": "python",
   "name": "python3"
  },
  "language_info": {
   "codemirror_mode": {
    "name": "ipython",
    "version": 3
   },
   "file_extension": ".py",
   "mimetype": "text/x-python",
   "name": "python",
   "nbconvert_exporter": "python",
   "pygments_lexer": "ipython3",
   "version": "3.7.1"
  }
 },
 "nbformat": 4,
 "nbformat_minor": 2
}
