{
 "cells": [
  {
   "cell_type": "code",
   "execution_count": 1,
   "metadata": {},
   "outputs": [],
   "source": [
    "# Dependencies\n",
    "import pandas as pd\n",
    "import numpy as np\n",
    "import matplotlib.pyplot as plt\n",
    "import seaborn as sns\n",
    "%matplotlib inline\n",
    "from sklearn.datasets import make_regression\n",
    "from sklearn.linear_model import LinearRegression\n",
    "from sklearn import preprocessing\n",
    "from sklearn.preprocessing import StandardScaler\n",
    "from sklearn.model_selection import train_test_split\n",
    "from sklearn.linear_model import LogisticRegression\n",
    "from sklearn import metrics\n",
    "from sklearn.metrics import f1_score\n",
    "from sklearn import svm\n",
    "from sklearn.model_selection import GridSearchCV\n",
    "from sklearn.model_selection import StratifiedShuffleSplit\n",
    "from sklearn.model_selection import cross_val_score\n",
    "from sklearn.metrics import classification_report,confusion_matrix\n",
    "from sklearn.metrics import mean_absolute_error\n",
    "from sklearn.naive_bayes import GaussianNB\n",
    "import warnings\n",
    "warnings.filterwarnings(\"ignore\")"
   ]
  },
  {
   "cell_type": "code",
   "execution_count": 2,
   "metadata": {
    "scrolled": false
   },
   "outputs": [
    {
     "data": {
      "text/html": [
       "<div>\n",
       "<style scoped>\n",
       "    .dataframe tbody tr th:only-of-type {\n",
       "        vertical-align: middle;\n",
       "    }\n",
       "\n",
       "    .dataframe tbody tr th {\n",
       "        vertical-align: top;\n",
       "    }\n",
       "\n",
       "    .dataframe thead th {\n",
       "        text-align: right;\n",
       "    }\n",
       "</style>\n",
       "<table border=\"1\" class=\"dataframe\">\n",
       "  <thead>\n",
       "    <tr style=\"text-align: right;\">\n",
       "      <th></th>\n",
       "      <th>IsHoliday</th>\n",
       "      <th>Weekly_Sales</th>\n",
       "      <th>Size</th>\n",
       "      <th>Temperature</th>\n",
       "      <th>Fuel_Price</th>\n",
       "      <th>MarkDown1</th>\n",
       "      <th>MarkDown2</th>\n",
       "      <th>MarkDown3</th>\n",
       "      <th>MarkDown4</th>\n",
       "      <th>MarkDown5</th>\n",
       "      <th>CPI</th>\n",
       "      <th>Unemployment</th>\n",
       "      <th>NewMarkDown1</th>\n",
       "      <th>NewMarkDown2</th>\n",
       "      <th>NewMarkDown3</th>\n",
       "      <th>NewMarkDown4</th>\n",
       "      <th>NewMarkDown5</th>\n",
       "    </tr>\n",
       "  </thead>\n",
       "  <tbody>\n",
       "    <tr>\n",
       "      <th>0</th>\n",
       "      <td>0</td>\n",
       "      <td>9137.035816</td>\n",
       "      <td>125833</td>\n",
       "      <td>66.36</td>\n",
       "      <td>3.451</td>\n",
       "      <td>1769.37</td>\n",
       "      <td>0.0</td>\n",
       "      <td>97.1</td>\n",
       "      <td>0.0</td>\n",
       "      <td>3594.24</td>\n",
       "      <td>228.976456</td>\n",
       "      <td>4.893</td>\n",
       "      <td>1</td>\n",
       "      <td>0</td>\n",
       "      <td>1</td>\n",
       "      <td>0</td>\n",
       "      <td>1</td>\n",
       "    </tr>\n",
       "    <tr>\n",
       "      <th>1</th>\n",
       "      <td>0</td>\n",
       "      <td>9137.035816</td>\n",
       "      <td>125833</td>\n",
       "      <td>66.36</td>\n",
       "      <td>3.451</td>\n",
       "      <td>1769.37</td>\n",
       "      <td>0.0</td>\n",
       "      <td>97.1</td>\n",
       "      <td>0.0</td>\n",
       "      <td>3594.24</td>\n",
       "      <td>228.976456</td>\n",
       "      <td>4.893</td>\n",
       "      <td>1</td>\n",
       "      <td>0</td>\n",
       "      <td>1</td>\n",
       "      <td>0</td>\n",
       "      <td>1</td>\n",
       "    </tr>\n",
       "    <tr>\n",
       "      <th>2</th>\n",
       "      <td>0</td>\n",
       "      <td>9137.035816</td>\n",
       "      <td>125833</td>\n",
       "      <td>66.36</td>\n",
       "      <td>3.451</td>\n",
       "      <td>1769.37</td>\n",
       "      <td>0.0</td>\n",
       "      <td>97.1</td>\n",
       "      <td>0.0</td>\n",
       "      <td>3594.24</td>\n",
       "      <td>228.976456</td>\n",
       "      <td>4.893</td>\n",
       "      <td>1</td>\n",
       "      <td>0</td>\n",
       "      <td>1</td>\n",
       "      <td>0</td>\n",
       "      <td>1</td>\n",
       "    </tr>\n",
       "    <tr>\n",
       "      <th>3</th>\n",
       "      <td>0</td>\n",
       "      <td>9137.035816</td>\n",
       "      <td>125833</td>\n",
       "      <td>66.36</td>\n",
       "      <td>3.451</td>\n",
       "      <td>1769.37</td>\n",
       "      <td>0.0</td>\n",
       "      <td>97.1</td>\n",
       "      <td>0.0</td>\n",
       "      <td>3594.24</td>\n",
       "      <td>228.976456</td>\n",
       "      <td>4.893</td>\n",
       "      <td>1</td>\n",
       "      <td>0</td>\n",
       "      <td>1</td>\n",
       "      <td>0</td>\n",
       "      <td>1</td>\n",
       "    </tr>\n",
       "    <tr>\n",
       "      <th>4</th>\n",
       "      <td>0</td>\n",
       "      <td>9137.035816</td>\n",
       "      <td>125833</td>\n",
       "      <td>66.36</td>\n",
       "      <td>3.451</td>\n",
       "      <td>1769.37</td>\n",
       "      <td>0.0</td>\n",
       "      <td>97.1</td>\n",
       "      <td>0.0</td>\n",
       "      <td>3594.24</td>\n",
       "      <td>228.976456</td>\n",
       "      <td>4.893</td>\n",
       "      <td>1</td>\n",
       "      <td>0</td>\n",
       "      <td>1</td>\n",
       "      <td>0</td>\n",
       "      <td>1</td>\n",
       "    </tr>\n",
       "  </tbody>\n",
       "</table>\n",
       "</div>"
      ],
      "text/plain": [
       "   IsHoliday  Weekly_Sales    Size  Temperature  Fuel_Price  MarkDown1  \\\n",
       "0          0   9137.035816  125833        66.36       3.451    1769.37   \n",
       "1          0   9137.035816  125833        66.36       3.451    1769.37   \n",
       "2          0   9137.035816  125833        66.36       3.451    1769.37   \n",
       "3          0   9137.035816  125833        66.36       3.451    1769.37   \n",
       "4          0   9137.035816  125833        66.36       3.451    1769.37   \n",
       "\n",
       "   MarkDown2  MarkDown3  MarkDown4  MarkDown5         CPI  Unemployment  \\\n",
       "0        0.0       97.1        0.0    3594.24  228.976456         4.893   \n",
       "1        0.0       97.1        0.0    3594.24  228.976456         4.893   \n",
       "2        0.0       97.1        0.0    3594.24  228.976456         4.893   \n",
       "3        0.0       97.1        0.0    3594.24  228.976456         4.893   \n",
       "4        0.0       97.1        0.0    3594.24  228.976456         4.893   \n",
       "\n",
       "   NewMarkDown1  NewMarkDown2  NewMarkDown3  NewMarkDown4  NewMarkDown5  \n",
       "0             1             0             1             0             1  \n",
       "1             1             0             1             0             1  \n",
       "2             1             0             1             0             1  \n",
       "3             1             0             1             0             1  \n",
       "4             1             0             1             0             1  "
      ]
     },
     "execution_count": 2,
     "metadata": {},
     "output_type": "execute_result"
    }
   ],
   "source": [
    "# Read CSV into dataframe and preview\n",
    "file_csv = \"data/classify.csv\"\n",
    "classify_df = pd.read_csv(file_csv, encoding=\"ISO-8859-1\")\n",
    "classify_df.head()"
   ]
  },
  {
   "cell_type": "code",
   "execution_count": 3,
   "metadata": {
    "scrolled": true
   },
   "outputs": [
    {
     "data": {
      "text/html": [
       "<div>\n",
       "<style scoped>\n",
       "    .dataframe tbody tr th:only-of-type {\n",
       "        vertical-align: middle;\n",
       "    }\n",
       "\n",
       "    .dataframe tbody tr th {\n",
       "        vertical-align: top;\n",
       "    }\n",
       "\n",
       "    .dataframe thead th {\n",
       "        text-align: right;\n",
       "    }\n",
       "</style>\n",
       "<table border=\"1\" class=\"dataframe\">\n",
       "  <thead>\n",
       "    <tr style=\"text-align: right;\">\n",
       "      <th></th>\n",
       "      <th>IsHoliday</th>\n",
       "      <th>Weekly_Sales</th>\n",
       "      <th>Size</th>\n",
       "      <th>Temperature</th>\n",
       "      <th>Fuel_Price</th>\n",
       "      <th>MarkDown1</th>\n",
       "      <th>MarkDown2</th>\n",
       "      <th>MarkDown3</th>\n",
       "      <th>MarkDown4</th>\n",
       "      <th>MarkDown5</th>\n",
       "      <th>CPI</th>\n",
       "      <th>Unemployment</th>\n",
       "      <th>NewMarkDown1</th>\n",
       "      <th>NewMarkDown2</th>\n",
       "      <th>NewMarkDown3</th>\n",
       "      <th>NewMarkDown4</th>\n",
       "      <th>NewMarkDown5</th>\n",
       "    </tr>\n",
       "  </thead>\n",
       "  <tbody>\n",
       "    <tr>\n",
       "      <th>count</th>\n",
       "      <td>266496.000000</td>\n",
       "      <td>266496.000000</td>\n",
       "      <td>266496.000000</td>\n",
       "      <td>266496.000000</td>\n",
       "      <td>266496.000000</td>\n",
       "      <td>266496.000000</td>\n",
       "      <td>266496.000000</td>\n",
       "      <td>266496.000000</td>\n",
       "      <td>266496.000000</td>\n",
       "      <td>266496.000000</td>\n",
       "      <td>266496.000000</td>\n",
       "      <td>266496.000000</td>\n",
       "      <td>266496.000000</td>\n",
       "      <td>266496.000000</td>\n",
       "      <td>266496.000000</td>\n",
       "      <td>266496.000000</td>\n",
       "      <td>266496.000000</td>\n",
       "    </tr>\n",
       "    <tr>\n",
       "      <th>mean</th>\n",
       "      <td>0.078496</td>\n",
       "      <td>16181.632128</td>\n",
       "      <td>136420.296170</td>\n",
       "      <td>57.270697</td>\n",
       "      <td>3.625386</td>\n",
       "      <td>7412.884804</td>\n",
       "      <td>2603.157249</td>\n",
       "      <td>1689.409045</td>\n",
       "      <td>3000.199289</td>\n",
       "      <td>4324.021158</td>\n",
       "      <td>175.516298</td>\n",
       "      <td>7.221692</td>\n",
       "      <td>0.995846</td>\n",
       "      <td>0.734551</td>\n",
       "      <td>0.905879</td>\n",
       "      <td>0.889856</td>\n",
       "      <td>0.999490</td>\n",
       "    </tr>\n",
       "    <tr>\n",
       "      <th>std</th>\n",
       "      <td>0.268952</td>\n",
       "      <td>18123.316812</td>\n",
       "      <td>61110.965643</td>\n",
       "      <td>18.348916</td>\n",
       "      <td>0.271614</td>\n",
       "      <td>9405.340314</td>\n",
       "      <td>7895.430908</td>\n",
       "      <td>11089.699223</td>\n",
       "      <td>6568.140310</td>\n",
       "      <td>13549.262124</td>\n",
       "      <td>40.659001</td>\n",
       "      <td>1.688433</td>\n",
       "      <td>0.064317</td>\n",
       "      <td>0.441573</td>\n",
       "      <td>0.291998</td>\n",
       "      <td>0.313070</td>\n",
       "      <td>0.022585</td>\n",
       "    </tr>\n",
       "    <tr>\n",
       "      <th>min</th>\n",
       "      <td>0.000000</td>\n",
       "      <td>-1699.000000</td>\n",
       "      <td>34875.000000</td>\n",
       "      <td>-7.290000</td>\n",
       "      <td>2.872000</td>\n",
       "      <td>-2781.450000</td>\n",
       "      <td>-265.760000</td>\n",
       "      <td>-179.260000</td>\n",
       "      <td>0.000000</td>\n",
       "      <td>-185.170000</td>\n",
       "      <td>129.816710</td>\n",
       "      <td>3.684000</td>\n",
       "      <td>0.000000</td>\n",
       "      <td>0.000000</td>\n",
       "      <td>0.000000</td>\n",
       "      <td>0.000000</td>\n",
       "      <td>0.000000</td>\n",
       "    </tr>\n",
       "    <tr>\n",
       "      <th>25%</th>\n",
       "      <td>0.000000</td>\n",
       "      <td>5361.427500</td>\n",
       "      <td>93638.000000</td>\n",
       "      <td>43.540000</td>\n",
       "      <td>3.451000</td>\n",
       "      <td>2088.090000</td>\n",
       "      <td>0.000000</td>\n",
       "      <td>4.140000</td>\n",
       "      <td>124.180000</td>\n",
       "      <td>1570.112500</td>\n",
       "      <td>136.643258</td>\n",
       "      <td>6.143000</td>\n",
       "      <td>1.000000</td>\n",
       "      <td>0.000000</td>\n",
       "      <td>1.000000</td>\n",
       "      <td>1.000000</td>\n",
       "      <td>1.000000</td>\n",
       "    </tr>\n",
       "    <tr>\n",
       "      <th>50%</th>\n",
       "      <td>0.000000</td>\n",
       "      <td>12260.705000</td>\n",
       "      <td>140167.000000</td>\n",
       "      <td>57.870000</td>\n",
       "      <td>3.629000</td>\n",
       "      <td>5097.870000</td>\n",
       "      <td>121.560000</td>\n",
       "      <td>29.770000</td>\n",
       "      <td>924.920000</td>\n",
       "      <td>2870.910000</td>\n",
       "      <td>189.707605</td>\n",
       "      <td>7.139000</td>\n",
       "      <td>1.000000</td>\n",
       "      <td>1.000000</td>\n",
       "      <td>1.000000</td>\n",
       "      <td>1.000000</td>\n",
       "      <td>1.000000</td>\n",
       "    </tr>\n",
       "    <tr>\n",
       "      <th>75%</th>\n",
       "      <td>0.000000</td>\n",
       "      <td>20350.455290</td>\n",
       "      <td>202505.000000</td>\n",
       "      <td>71.560000</td>\n",
       "      <td>3.804000</td>\n",
       "      <td>9295.460000</td>\n",
       "      <td>1148.080000</td>\n",
       "      <td>143.880000</td>\n",
       "      <td>2996.470000</td>\n",
       "      <td>5012.220000</td>\n",
       "      <td>220.849847</td>\n",
       "      <td>8.239000</td>\n",
       "      <td>1.000000</td>\n",
       "      <td>1.000000</td>\n",
       "      <td>1.000000</td>\n",
       "      <td>1.000000</td>\n",
       "      <td>1.000000</td>\n",
       "    </tr>\n",
       "    <tr>\n",
       "      <th>max</th>\n",
       "      <td>1.000000</td>\n",
       "      <td>649770.180000</td>\n",
       "      <td>219622.000000</td>\n",
       "      <td>101.950000</td>\n",
       "      <td>4.468000</td>\n",
       "      <td>103184.980000</td>\n",
       "      <td>104519.540000</td>\n",
       "      <td>149483.310000</td>\n",
       "      <td>67474.850000</td>\n",
       "      <td>771448.100000</td>\n",
       "      <td>228.976456</td>\n",
       "      <td>12.890000</td>\n",
       "      <td>1.000000</td>\n",
       "      <td>1.000000</td>\n",
       "      <td>1.000000</td>\n",
       "      <td>1.000000</td>\n",
       "      <td>1.000000</td>\n",
       "    </tr>\n",
       "  </tbody>\n",
       "</table>\n",
       "</div>"
      ],
      "text/plain": [
       "           IsHoliday   Weekly_Sales           Size    Temperature  \\\n",
       "count  266496.000000  266496.000000  266496.000000  266496.000000   \n",
       "mean        0.078496   16181.632128  136420.296170      57.270697   \n",
       "std         0.268952   18123.316812   61110.965643      18.348916   \n",
       "min         0.000000   -1699.000000   34875.000000      -7.290000   \n",
       "25%         0.000000    5361.427500   93638.000000      43.540000   \n",
       "50%         0.000000   12260.705000  140167.000000      57.870000   \n",
       "75%         0.000000   20350.455290  202505.000000      71.560000   \n",
       "max         1.000000  649770.180000  219622.000000     101.950000   \n",
       "\n",
       "          Fuel_Price      MarkDown1      MarkDown2      MarkDown3  \\\n",
       "count  266496.000000  266496.000000  266496.000000  266496.000000   \n",
       "mean        3.625386    7412.884804    2603.157249    1689.409045   \n",
       "std         0.271614    9405.340314    7895.430908   11089.699223   \n",
       "min         2.872000   -2781.450000    -265.760000    -179.260000   \n",
       "25%         3.451000    2088.090000       0.000000       4.140000   \n",
       "50%         3.629000    5097.870000     121.560000      29.770000   \n",
       "75%         3.804000    9295.460000    1148.080000     143.880000   \n",
       "max         4.468000  103184.980000  104519.540000  149483.310000   \n",
       "\n",
       "           MarkDown4      MarkDown5            CPI   Unemployment  \\\n",
       "count  266496.000000  266496.000000  266496.000000  266496.000000   \n",
       "mean     3000.199289    4324.021158     175.516298       7.221692   \n",
       "std      6568.140310   13549.262124      40.659001       1.688433   \n",
       "min         0.000000    -185.170000     129.816710       3.684000   \n",
       "25%       124.180000    1570.112500     136.643258       6.143000   \n",
       "50%       924.920000    2870.910000     189.707605       7.139000   \n",
       "75%      2996.470000    5012.220000     220.849847       8.239000   \n",
       "max     67474.850000  771448.100000     228.976456      12.890000   \n",
       "\n",
       "        NewMarkDown1   NewMarkDown2   NewMarkDown3   NewMarkDown4  \\\n",
       "count  266496.000000  266496.000000  266496.000000  266496.000000   \n",
       "mean        0.995846       0.734551       0.905879       0.889856   \n",
       "std         0.064317       0.441573       0.291998       0.313070   \n",
       "min         0.000000       0.000000       0.000000       0.000000   \n",
       "25%         1.000000       0.000000       1.000000       1.000000   \n",
       "50%         1.000000       1.000000       1.000000       1.000000   \n",
       "75%         1.000000       1.000000       1.000000       1.000000   \n",
       "max         1.000000       1.000000       1.000000       1.000000   \n",
       "\n",
       "        NewMarkDown5  \n",
       "count  266496.000000  \n",
       "mean        0.999490  \n",
       "std         0.022585  \n",
       "min         0.000000  \n",
       "25%         1.000000  \n",
       "50%         1.000000  \n",
       "75%         1.000000  \n",
       "max         1.000000  "
      ]
     },
     "execution_count": 3,
     "metadata": {},
     "output_type": "execute_result"
    }
   ],
   "source": [
    "classify_df.describe()"
   ]
  },
  {
   "cell_type": "code",
   "execution_count": 4,
   "metadata": {
    "scrolled": true
   },
   "outputs": [
    {
     "data": {
      "text/plain": [
       "<matplotlib.collections.PathCollection at 0x1f886418a58>"
      ]
     },
     "execution_count": 4,
     "metadata": {},
     "output_type": "execute_result"
    },
    {
     "data": {
      "image/png": "[encoded data removed]",
      "text/plain": [
       "<Figure size 432x288 with 1 Axes>"
      ]
     },
     "metadata": {
      "needs_background": "light"
     },
     "output_type": "display_data"
    }
   ],
   "source": [
    "plt.scatter(classify_df.Weekly_Sales, classify_df.IsHoliday, marker='+',color='blue')"
   ]
  },
  {
   "cell_type": "code",
   "execution_count": 5,
   "metadata": {},
   "outputs": [
    {
     "data": {
      "text/plain": [
       "<matplotlib.collections.PathCollection at 0x1f88688eda0>"
      ]
     },
     "execution_count": 5,
     "metadata": {},
     "output_type": "execute_result"
    },
    {
     "data": {
      "image/png": "[encoded data removed]",
      "text/plain": [
       "<Figure size 432x288 with 1 Axes>"
      ]
     },
     "metadata": {
      "needs_background": "light"
     },
     "output_type": "display_data"
    }
   ],
   "source": [
    "plt.scatter(classify_df.MarkDown1, classify_df.IsHoliday, marker='+',color='red')"
   ]
  },
  {
   "cell_type": "code",
   "execution_count": 6,
   "metadata": {
    "scrolled": true
   },
   "outputs": [
    {
     "data": {
      "text/plain": [
       "<matplotlib.collections.PathCollection at 0x1f8871649e8>"
      ]
     },
     "execution_count": 6,
     "metadata": {},
     "output_type": "execute_result"
    },
    {
     "data": {
      "image/png": "[encoded data removed]",
      "text/plain": [
       "<Figure size 432x288 with 1 Axes>"
      ]
     },
     "metadata": {
      "needs_background": "light"
     },
     "output_type": "display_data"
    }
   ],
   "source": [
    "plt.scatter(classify_df.MarkDown2, classify_df.IsHoliday, marker='+',color='green')"
   ]
  },
  {
   "cell_type": "code",
   "execution_count": 7,
   "metadata": {},
   "outputs": [
    {
     "data": {
      "text/plain": [
       "<matplotlib.collections.PathCollection at 0x1f8875d3fd0>"
      ]
     },
     "execution_count": 7,
     "metadata": {},
     "output_type": "execute_result"
    },
    {
     "data": {
      "image/png": "[encoded data removed]",
      "text/plain": [
       "<Figure size 432x288 with 1 Axes>"
      ]
     },
     "metadata": {
      "needs_background": "light"
     },
     "output_type": "display_data"
    }
   ],
   "source": [
    "plt.scatter(classify_df.MarkDown3, classify_df.IsHoliday, marker='+',color='violet')"
   ]
  },
  {
   "cell_type": "code",
   "execution_count": 8,
   "metadata": {},
   "outputs": [
    {
     "data": {
      "text/plain": [
       "<matplotlib.collections.PathCollection at 0x1f8868eab38>"
      ]
     },
     "execution_count": 8,
     "metadata": {},
     "output_type": "execute_result"
    },
    {
     "data": {
      "image/png": "[encoded data removed]",
      "text/plain": [
       "<Figure size 432x288 with 1 Axes>"
      ]
     },
     "metadata": {
      "needs_background": "light"
     },
     "output_type": "display_data"
    }
   ],
   "source": [
    "plt.scatter(classify_df.MarkDown4, classify_df.IsHoliday, marker='+',color='darkorange')"
   ]
  },
  {
   "cell_type": "code",
   "execution_count": 9,
   "metadata": {},
   "outputs": [
    {
     "data": {
      "text/plain": [
       "<matplotlib.collections.PathCollection at 0x1f8863c6b70>"
      ]
     },
     "execution_count": 9,
     "metadata": {},
     "output_type": "execute_result"
    },
    {
     "data": {
      "image/png": "[encoded data removed]",
      "text/plain": [
       "<Figure size 432x288 with 1 Axes>"
      ]
     },
     "metadata": {
      "needs_background": "light"
     },
     "output_type": "display_data"
    }
   ],
   "source": [
    "plt.scatter(classify_df.MarkDown5, classify_df.IsHoliday, marker='+',color='black')"
   ]
  },
  {
   "cell_type": "code",
   "execution_count": 10,
   "metadata": {},
   "outputs": [
    {
     "data": {
      "text/plain": [
       "<matplotlib.collections.PathCollection at 0x1f8883e7320>"
      ]
     },
     "execution_count": 10,
     "metadata": {},
     "output_type": "execute_result"
    },
    {
     "data": {
      "image/png": "[encoded data removed]",
      "text/plain": [
       "<Figure size 432x288 with 1 Axes>"
      ]
     },
     "metadata": {
      "needs_background": "light"
     },
     "output_type": "display_data"
    }
   ],
   "source": [
    "plt.scatter(classify_df.Temperature, classify_df.IsHoliday, marker='+',color='cyan')"
   ]
  },
  {
   "cell_type": "code",
   "execution_count": 11,
   "metadata": {},
   "outputs": [
    {
     "data": {
      "text/plain": [
       "<matplotlib.collections.PathCollection at 0x1f88694af28>"
      ]
     },
     "execution_count": 11,
     "metadata": {},
     "output_type": "execute_result"
    },
    {
     "data": {
      "image/png": "[encoded data removed]",
      "text/plain": [
       "<Figure size 432x288 with 1 Axes>"
      ]
     },
     "metadata": {
      "needs_background": "light"
     },
     "output_type": "display_data"
    }
   ],
   "source": [
    "plt.scatter(classify_df.Fuel_Price, classify_df.IsHoliday, marker='+',color='Magenta')"
   ]
  },
  {
   "cell_type": "code",
   "execution_count": 12,
   "metadata": {},
   "outputs": [
    {
     "data": {
      "text/plain": [
       "<matplotlib.collections.PathCollection at 0x1f888c9ec88>"
      ]
     },
     "execution_count": 12,
     "metadata": {},
     "output_type": "execute_result"
    },
    {
     "data": {
      "image/png": "[encoded data removed]",
      "text/plain": [
       "<Figure size 432x288 with 1 Axes>"
      ]
     },
     "metadata": {
      "needs_background": "light"
     },
     "output_type": "display_data"
    }
   ],
   "source": [
    "plt.scatter(classify_df.CPI, classify_df.IsHoliday, marker='+',color='Teal')"
   ]
  },
  {
   "cell_type": "code",
   "execution_count": 13,
   "metadata": {},
   "outputs": [
    {
     "data": {
      "text/plain": [
       "<matplotlib.collections.PathCollection at 0x1f888cbf5c0>"
      ]
     },
     "execution_count": 13,
     "metadata": {},
     "output_type": "execute_result"
    },
    {
     "data": {
      "image/png": "[encoded data removed]",
      "text/plain": [
       "<Figure size 432x288 with 1 Axes>"
      ]
     },
     "metadata": {
      "needs_background": "light"
     },
     "output_type": "display_data"
    }
   ],
   "source": [
    "plt.scatter(classify_df.Size, classify_df.IsHoliday, marker='+',color='Navy')"
   ]
  },
  {
   "cell_type": "code",
   "execution_count": 14,
   "metadata": {},
   "outputs": [
    {
     "data": {
      "text/plain": [
       "<matplotlib.collections.PathCollection at 0x1f8869a8cc0>"
      ]
     },
     "execution_count": 14,
     "metadata": {},
     "output_type": "execute_result"
    },
    {
     "data": {
      "image/png": "[encoded data removed]",
      "text/plain": [
       "<Figure size 432x288 with 1 Axes>"
      ]
     },
     "metadata": {
      "needs_background": "light"
     },
     "output_type": "display_data"
    }
   ],
   "source": [
    "plt.scatter(classify_df.Unemployment, classify_df.IsHoliday, marker='+',color='coral')"
   ]
  },
  {
   "cell_type": "code",
   "execution_count": 15,
   "metadata": {},
   "outputs": [
    {
     "data": {
      "text/plain": [
       "<matplotlib.collections.PathCollection at 0x1f8869c8400>"
      ]
     },
     "execution_count": 15,
     "metadata": {},
     "output_type": "execute_result"
    },
    {
     "data": {
      "image/png": "[encoded data removed]",
      "text/plain": [
       "<Figure size 432x288 with 1 Axes>"
      ]
     },
     "metadata": {
      "needs_background": "light"
     },
     "output_type": "display_data"
    }
   ],
   "source": [
    "plt.scatter(classify_df.Temperature, classify_df.IsHoliday, marker='+',color='chocolate')"
   ]
  },
  {
   "cell_type": "code",
   "execution_count": 16,
   "metadata": {},
   "outputs": [
    {
     "name": "stdout",
     "output_type": "stream",
     "text": [
      "IsHoliday         int64\n",
      "Weekly_Sales    float64\n",
      "Size              int64\n",
      "Temperature     float64\n",
      "Fuel_Price      float64\n",
      "MarkDown1       float64\n",
      "MarkDown2       float64\n",
      "MarkDown3       float64\n",
      "MarkDown4       float64\n",
      "MarkDown5       float64\n",
      "CPI             float64\n",
      "Unemployment    float64\n",
      "NewMarkDown1      int64\n",
      "NewMarkDown2      int64\n",
      "NewMarkDown3      int64\n",
      "NewMarkDown4      int64\n",
      "NewMarkDown5      int64\n",
      "dtype: object\n"
     ]
    }
   ],
   "source": [
    "print(classify_df.dtypes)"
   ]
  },
  {
   "cell_type": "code",
   "execution_count": 40,
   "metadata": {},
   "outputs": [
    {
     "data": {
      "text/plain": [
       "266496"
      ]
     },
     "execution_count": 40,
     "metadata": {},
     "output_type": "execute_result"
    }
   ],
   "source": [
    "len(classify_df)"
   ]
  },
  {
   "cell_type": "code",
   "execution_count": null,
   "metadata": {},
   "outputs": [],
   "source": []
  },
  {
   "cell_type": "code",
   "execution_count": 18,
   "metadata": {},
   "outputs": [
    {
     "data": {
      "text/html": [
       "<div>\n",
       "<style scoped>\n",
       "    .dataframe tbody tr th:only-of-type {\n",
       "        vertical-align: middle;\n",
       "    }\n",
       "\n",
       "    .dataframe tbody tr th {\n",
       "        vertical-align: top;\n",
       "    }\n",
       "\n",
       "    .dataframe thead th {\n",
       "        text-align: right;\n",
       "    }\n",
       "</style>\n",
       "<table border=\"1\" class=\"dataframe\">\n",
       "  <thead>\n",
       "    <tr style=\"text-align: right;\">\n",
       "      <th></th>\n",
       "      <th>Weekly_Sales</th>\n",
       "      <th>Size</th>\n",
       "      <th>Temperature</th>\n",
       "      <th>Fuel_Price</th>\n",
       "      <th>MarkDown1</th>\n",
       "      <th>MarkDown2</th>\n",
       "      <th>MarkDown3</th>\n",
       "      <th>MarkDown4</th>\n",
       "      <th>MarkDown5</th>\n",
       "      <th>CPI</th>\n",
       "      <th>Unemployment</th>\n",
       "      <th>NewMarkDown1</th>\n",
       "      <th>NewMarkDown2</th>\n",
       "      <th>NewMarkDown3</th>\n",
       "      <th>NewMarkDown4</th>\n",
       "      <th>NewMarkDown5</th>\n",
       "    </tr>\n",
       "  </thead>\n",
       "  <tbody>\n",
       "    <tr>\n",
       "      <th>0</th>\n",
       "      <td>9137.035816</td>\n",
       "      <td>125833</td>\n",
       "      <td>66.36</td>\n",
       "      <td>3.451</td>\n",
       "      <td>1769.37</td>\n",
       "      <td>0.0</td>\n",
       "      <td>97.1</td>\n",
       "      <td>0.0</td>\n",
       "      <td>3594.24</td>\n",
       "      <td>228.976456</td>\n",
       "      <td>4.893</td>\n",
       "      <td>1</td>\n",
       "      <td>0</td>\n",
       "      <td>1</td>\n",
       "      <td>0</td>\n",
       "      <td>1</td>\n",
       "    </tr>\n",
       "    <tr>\n",
       "      <th>1</th>\n",
       "      <td>9137.035816</td>\n",
       "      <td>125833</td>\n",
       "      <td>66.36</td>\n",
       "      <td>3.451</td>\n",
       "      <td>1769.37</td>\n",
       "      <td>0.0</td>\n",
       "      <td>97.1</td>\n",
       "      <td>0.0</td>\n",
       "      <td>3594.24</td>\n",
       "      <td>228.976456</td>\n",
       "      <td>4.893</td>\n",
       "      <td>1</td>\n",
       "      <td>0</td>\n",
       "      <td>1</td>\n",
       "      <td>0</td>\n",
       "      <td>1</td>\n",
       "    </tr>\n",
       "    <tr>\n",
       "      <th>2</th>\n",
       "      <td>9137.035816</td>\n",
       "      <td>125833</td>\n",
       "      <td>66.36</td>\n",
       "      <td>3.451</td>\n",
       "      <td>1769.37</td>\n",
       "      <td>0.0</td>\n",
       "      <td>97.1</td>\n",
       "      <td>0.0</td>\n",
       "      <td>3594.24</td>\n",
       "      <td>228.976456</td>\n",
       "      <td>4.893</td>\n",
       "      <td>1</td>\n",
       "      <td>0</td>\n",
       "      <td>1</td>\n",
       "      <td>0</td>\n",
       "      <td>1</td>\n",
       "    </tr>\n",
       "    <tr>\n",
       "      <th>3</th>\n",
       "      <td>9137.035816</td>\n",
       "      <td>125833</td>\n",
       "      <td>66.36</td>\n",
       "      <td>3.451</td>\n",
       "      <td>1769.37</td>\n",
       "      <td>0.0</td>\n",
       "      <td>97.1</td>\n",
       "      <td>0.0</td>\n",
       "      <td>3594.24</td>\n",
       "      <td>228.976456</td>\n",
       "      <td>4.893</td>\n",
       "      <td>1</td>\n",
       "      <td>0</td>\n",
       "      <td>1</td>\n",
       "      <td>0</td>\n",
       "      <td>1</td>\n",
       "    </tr>\n",
       "    <tr>\n",
       "      <th>4</th>\n",
       "      <td>9137.035816</td>\n",
       "      <td>125833</td>\n",
       "      <td>66.36</td>\n",
       "      <td>3.451</td>\n",
       "      <td>1769.37</td>\n",
       "      <td>0.0</td>\n",
       "      <td>97.1</td>\n",
       "      <td>0.0</td>\n",
       "      <td>3594.24</td>\n",
       "      <td>228.976456</td>\n",
       "      <td>4.893</td>\n",
       "      <td>1</td>\n",
       "      <td>0</td>\n",
       "      <td>1</td>\n",
       "      <td>0</td>\n",
       "      <td>1</td>\n",
       "    </tr>\n",
       "  </tbody>\n",
       "</table>\n",
       "</div>"
      ],
      "text/plain": [
       "   Weekly_Sales    Size  Temperature  Fuel_Price  MarkDown1  MarkDown2  \\\n",
       "0   9137.035816  125833        66.36       3.451    1769.37        0.0   \n",
       "1   9137.035816  125833        66.36       3.451    1769.37        0.0   \n",
       "2   9137.035816  125833        66.36       3.451    1769.37        0.0   \n",
       "3   9137.035816  125833        66.36       3.451    1769.37        0.0   \n",
       "4   9137.035816  125833        66.36       3.451    1769.37        0.0   \n",
       "\n",
       "   MarkDown3  MarkDown4  MarkDown5         CPI  Unemployment  NewMarkDown1  \\\n",
       "0       97.1        0.0    3594.24  228.976456         4.893             1   \n",
       "1       97.1        0.0    3594.24  228.976456         4.893             1   \n",
       "2       97.1        0.0    3594.24  228.976456         4.893             1   \n",
       "3       97.1        0.0    3594.24  228.976456         4.893             1   \n",
       "4       97.1        0.0    3594.24  228.976456         4.893             1   \n",
       "\n",
       "   NewMarkDown2  NewMarkDown3  NewMarkDown4  NewMarkDown5  \n",
       "0             0             1             0             1  \n",
       "1             0             1             0             1  \n",
       "2             0             1             0             1  \n",
       "3             0             1             0             1  \n",
       "4             0             1             0             1  "
      ]
     },
     "execution_count": 18,
     "metadata": {},
     "output_type": "execute_result"
    }
   ],
   "source": [
    "# Define features\n",
    "X = classify_df.loc[:, classify_df.columns != 'IsHoliday']\n",
    "X.head()"
   ]
  },
  {
   "cell_type": "code",
   "execution_count": 19,
   "metadata": {},
   "outputs": [
    {
     "data": {
      "text/html": [
       "<div>\n",
       "<style scoped>\n",
       "    .dataframe tbody tr th:only-of-type {\n",
       "        vertical-align: middle;\n",
       "    }\n",
       "\n",
       "    .dataframe tbody tr th {\n",
       "        vertical-align: top;\n",
       "    }\n",
       "\n",
       "    .dataframe thead th {\n",
       "        text-align: right;\n",
       "    }\n",
       "</style>\n",
       "<table border=\"1\" class=\"dataframe\">\n",
       "  <thead>\n",
       "    <tr style=\"text-align: right;\">\n",
       "      <th></th>\n",
       "      <th>IsHoliday</th>\n",
       "    </tr>\n",
       "  </thead>\n",
       "  <tbody>\n",
       "    <tr>\n",
       "      <th>0</th>\n",
       "      <td>0</td>\n",
       "    </tr>\n",
       "    <tr>\n",
       "      <th>1</th>\n",
       "      <td>0</td>\n",
       "    </tr>\n",
       "    <tr>\n",
       "      <th>2</th>\n",
       "      <td>0</td>\n",
       "    </tr>\n",
       "    <tr>\n",
       "      <th>3</th>\n",
       "      <td>0</td>\n",
       "    </tr>\n",
       "    <tr>\n",
       "      <th>4</th>\n",
       "      <td>0</td>\n",
       "    </tr>\n",
       "  </tbody>\n",
       "</table>\n",
       "</div>"
      ],
      "text/plain": [
       "   IsHoliday\n",
       "0          0\n",
       "1          0\n",
       "2          0\n",
       "3          0\n",
       "4          0"
      ]
     },
     "execution_count": 19,
     "metadata": {},
     "output_type": "execute_result"
    }
   ],
   "source": [
    "# Define target\n",
    "y = classify_df['IsHoliday'].to_frame()\n",
    "y.head()"
   ]
  },
  {
   "cell_type": "code",
   "execution_count": 20,
   "metadata": {},
   "outputs": [
    {
     "data": {
      "text/plain": [
       "0    245577\n",
       "1     20919\n",
       "Name: IsHoliday, dtype: int64"
      ]
     },
     "execution_count": 20,
     "metadata": {},
     "output_type": "execute_result"
    }
   ],
   "source": [
    "# Count of target values\n",
    "y['IsHoliday'].value_counts()"
   ]
  },
  {
   "cell_type": "code",
   "execution_count": 21,
   "metadata": {},
   "outputs": [],
   "source": [
    "# Standardize features to have zero mean and unit variance\n",
    "scaler = StandardScaler()\n",
    "X_standard = scaler.fit_transform(X)"
   ]
  },
  {
   "cell_type": "code",
   "execution_count": 22,
   "metadata": {},
   "outputs": [],
   "source": [
    "# 80/20 training and test split. Incorporate stratification to retain\n",
    "# class distribution within the training and test sets.\n",
    "\n",
    "X_train, X_test, y_train, y_test = train_test_split(\n",
    "    X_standard,\n",
    "    y,\n",
    "    test_size=0.2,\n",
    "    stratify=y,\n",
    "    random_state=42    \n",
    ")"
   ]
  },
  {
   "cell_type": "code",
   "execution_count": 23,
   "metadata": {},
   "outputs": [
    {
     "data": {
      "text/plain": [
       "0.5938339920948617"
      ]
     },
     "execution_count": 23,
     "metadata": {},
     "output_type": "execute_result"
    }
   ],
   "source": [
    "#  Train a logistic regression classifier on the training set using the default hyperparameter\n",
    "# and evaluate its performance on the test set. \n",
    "# Classes are imbalanced---use F1 score performance metric.\n",
    "\n",
    "classify = LogisticRegression()\n",
    "classify.fit(X_train, y_train)\n",
    "y_pred = classify.predict(X_test)\n",
    "metrics.f1_score(y_test, y_pred)"
   ]
  },
  {
   "cell_type": "code",
   "execution_count": 25,
   "metadata": {},
   "outputs": [],
   "source": [
    "# Confirm this performance holds for other splits, tune the regularization hyperparameter. \n",
    "# Utilize nested cross-validation\n",
    "\n",
    "param_grid = [{'C': np.logspace(-3, 3, 10)}]\n",
    "\n",
    "grid_search = GridSearchCV(\n",
    "    estimator=LogisticRegression(),\n",
    "    param_grid=param_grid,\n",
    "    cv=StratifiedShuffleSplit(n_splits=10, test_size=0.2, random_state=42),\n",
    "    scoring='f1',\n",
    "    n_jobs=-1\n",
    ")\n",
    "\n",
    "scores = cross_val_score(\n",
    "    estimator=grid_search,\n",
    "    X=X_standard,\n",
    "    y=y,\n",
    "    cv=StratifiedShuffleSplit(n_splits=10, test_size=0.2, random_state=0),\n",
    "    scoring='f1',\n",
    "    n_jobs=-1\n",
    ")"
   ]
  },
  {
   "cell_type": "code",
   "execution_count": 26,
   "metadata": {},
   "outputs": [
    {
     "data": {
      "text/plain": [
       "array([0.59522313, 0.59179471, 0.59123506, 0.59869779, 0.59497645,\n",
       "       0.59133226, 0.58699473, 0.5858007 , 0.59055244, 0.59245103])"
      ]
     },
     "execution_count": 26,
     "metadata": {},
     "output_type": "execute_result"
    }
   ],
   "source": [
    "scores"
   ]
  },
  {
   "cell_type": "code",
   "execution_count": 27,
   "metadata": {},
   "outputs": [
    {
     "data": {
      "text/plain": [
       "0.5919058304352444"
      ]
     },
     "execution_count": 27,
     "metadata": {},
     "output_type": "execute_result"
    }
   ],
   "source": [
    "scores.mean()"
   ]
  },
  {
   "cell_type": "code",
   "execution_count": 29,
   "metadata": {},
   "outputs": [
    {
     "data": {
      "text/plain": [
       "{'C': 215.44346900318823}"
      ]
     },
     "execution_count": 29,
     "metadata": {},
     "output_type": "execute_result"
    }
   ],
   "source": [
    "# Perform grid search to identify the optimal regularization hyperparameter.\n",
    "\n",
    "grid_search.fit(X_standard, y)\n",
    "grid_search.best_params_"
   ]
  },
  {
   "cell_type": "code",
   "execution_count": 30,
   "metadata": {},
   "outputs": [],
   "source": [
    "# train the final model\n",
    "final_classify = LogisticRegression(C=0.1)\n",
    "final_classify.fit(X_standard, y);"
   ]
  },
  {
   "cell_type": "code",
   "execution_count": 32,
   "metadata": {},
   "outputs": [
    {
     "data": {
      "text/html": [
       "<div>\n",
       "<style scoped>\n",
       "    .dataframe tbody tr th:only-of-type {\n",
       "        vertical-align: middle;\n",
       "    }\n",
       "\n",
       "    .dataframe tbody tr th {\n",
       "        vertical-align: top;\n",
       "    }\n",
       "\n",
       "    .dataframe thead th {\n",
       "        text-align: right;\n",
       "    }\n",
       "</style>\n",
       "<table border=\"1\" class=\"dataframe\">\n",
       "  <thead>\n",
       "    <tr style=\"text-align: right;\">\n",
       "      <th></th>\n",
       "      <th>parameter value</th>\n",
       "    </tr>\n",
       "  </thead>\n",
       "  <tbody>\n",
       "    <tr>\n",
       "      <th>MarkDown3</th>\n",
       "      <td>1.862143</td>\n",
       "    </tr>\n",
       "    <tr>\n",
       "      <th>MarkDown2</th>\n",
       "      <td>0.723529</td>\n",
       "    </tr>\n",
       "    <tr>\n",
       "      <th>MarkDown1</th>\n",
       "      <td>0.692277</td>\n",
       "    </tr>\n",
       "    <tr>\n",
       "      <th>Unemployment</th>\n",
       "      <td>0.144935</td>\n",
       "    </tr>\n",
       "    <tr>\n",
       "      <th>NewMarkDown2</th>\n",
       "      <td>0.143033</td>\n",
       "    </tr>\n",
       "  </tbody>\n",
       "</table>\n",
       "</div>"
      ],
      "text/plain": [
       "              parameter value\n",
       "MarkDown3            1.862143\n",
       "MarkDown2            0.723529\n",
       "MarkDown1            0.692277\n",
       "Unemployment         0.144935\n",
       "NewMarkDown2         0.143033"
      ]
     },
     "execution_count": 32,
     "metadata": {},
     "output_type": "execute_result"
    }
   ],
   "source": [
    "# report the five features that are most strongly correlated with class\n",
    "feature_ranks = pd.DataFrame(final_classify.coef_, index=['parameter value'])\n",
    "feature_ranks.columns = X.columns\n",
    "\n",
    "# Strongest five positive\n",
    "feature_ranks.sort_values('parameter value', axis=1, ascending=False).T.head()"
   ]
  },
  {
   "cell_type": "code",
   "execution_count": 33,
   "metadata": {},
   "outputs": [
    {
     "data": {
      "text/html": [
       "<div>\n",
       "<style scoped>\n",
       "    .dataframe tbody tr th:only-of-type {\n",
       "        vertical-align: middle;\n",
       "    }\n",
       "\n",
       "    .dataframe tbody tr th {\n",
       "        vertical-align: top;\n",
       "    }\n",
       "\n",
       "    .dataframe thead th {\n",
       "        text-align: right;\n",
       "    }\n",
       "</style>\n",
       "<table border=\"1\" class=\"dataframe\">\n",
       "  <thead>\n",
       "    <tr style=\"text-align: right;\">\n",
       "      <th></th>\n",
       "      <th>parameter value</th>\n",
       "    </tr>\n",
       "  </thead>\n",
       "  <tbody>\n",
       "    <tr>\n",
       "      <th>MarkDown5</th>\n",
       "      <td>-1.459143</td>\n",
       "    </tr>\n",
       "    <tr>\n",
       "      <th>Size</th>\n",
       "      <td>-0.640652</td>\n",
       "    </tr>\n",
       "    <tr>\n",
       "      <th>Fuel_Price</th>\n",
       "      <td>-0.295247</td>\n",
       "    </tr>\n",
       "    <tr>\n",
       "      <th>Temperature</th>\n",
       "      <td>-0.068449</td>\n",
       "    </tr>\n",
       "    <tr>\n",
       "      <th>Weekly_Sales</th>\n",
       "      <td>-0.025376</td>\n",
       "    </tr>\n",
       "  </tbody>\n",
       "</table>\n",
       "</div>"
      ],
      "text/plain": [
       "              parameter value\n",
       "MarkDown5           -1.459143\n",
       "Size                -0.640652\n",
       "Fuel_Price          -0.295247\n",
       "Temperature         -0.068449\n",
       "Weekly_Sales        -0.025376"
      ]
     },
     "execution_count": 33,
     "metadata": {},
     "output_type": "execute_result"
    }
   ],
   "source": [
    "# Strongest five negative\n",
    "feature_ranks.sort_values('parameter value', axis=1, ascending=True).T.head()"
   ]
  },
  {
   "cell_type": "code",
   "execution_count": 34,
   "metadata": {},
   "outputs": [
    {
     "name": "stdout",
     "output_type": "stream",
     "text": [
      "[[48853   263]\n",
      " [ 2306  1878]]\n"
     ]
    }
   ],
   "source": [
    "print(confusion_matrix(y_test,y_pred))"
   ]
  },
  {
   "cell_type": "code",
   "execution_count": 35,
   "metadata": {},
   "outputs": [
    {
     "name": "stdout",
     "output_type": "stream",
     "text": [
      "              precision    recall  f1-score   support\n",
      "\n",
      "           0       0.95      0.99      0.97     49116\n",
      "           1       0.88      0.45      0.59      4184\n",
      "\n",
      "   micro avg       0.95      0.95      0.95     53300\n",
      "   macro avg       0.92      0.72      0.78     53300\n",
      "weighted avg       0.95      0.95      0.94     53300\n",
      "\n"
     ]
    }
   ],
   "source": [
    "print(classification_report(y_test,y_pred))"
   ]
  },
  {
   "cell_type": "code",
   "execution_count": 36,
   "metadata": {},
   "outputs": [
    {
     "name": "stdout",
     "output_type": "stream",
     "text": [
      "   Predicted No  Predicted Yes\n",
      "0         48853            263\n",
      "1          2306           1878\n"
     ]
    }
   ],
   "source": [
    "confusion_df = pd.DataFrame(data=confusion_matrix(y_test,y_pred),columns=['Predicted No', 'Predicted Yes'])\n",
    "print(confusion_df)"
   ]
  },
  {
   "cell_type": "code",
   "execution_count": 37,
   "metadata": {},
   "outputs": [
    {
     "name": "stdout",
     "output_type": "stream",
     "text": [
      "0.048198874296435275\n"
     ]
    }
   ],
   "source": [
    "MAE = mean_absolute_error(y_test,y_pred)\n",
    "print(MAE)"
   ]
  },
  {
   "cell_type": "code",
   "execution_count": null,
   "metadata": {},
   "outputs": [],
   "source": []
  }
 ],
 "metadata": {
  "kernelspec": {
   "display_name": "Python 3",
   "language": "python",
   "name": "python3"
  },
  "language_info": {
   "codemirror_mode": {
    "name": "ipython",
    "version": 3
   },
   "file_extension": ".py",
   "mimetype": "text/x-python",
   "name": "python",
   "nbconvert_exporter": "python",
   "pygments_lexer": "ipython3",
   "version": "3.7.1"
  }
 },
 "nbformat": 4,
 "nbformat_minor": 2
}
